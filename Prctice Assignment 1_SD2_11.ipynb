{
 "cells": [
  {
   "cell_type": "markdown",
   "metadata": {},
   "source": [
    "# Welcome to Jupyter!"
   ]
  },
  {
   "cell_type": "code",
   "execution_count": 1,
   "metadata": {},
   "outputs": [
    {
     "name": "stdout",
     "output_type": "stream",
     "text": [
      "Hello World\n"
     ]
    }
   ],
   "source": [
    "#Q1 Hellow World\n",
    "print(\"Hello World\")"
   ]
  },
  {
   "cell_type": "code",
   "execution_count": 2,
   "metadata": {},
   "outputs": [
    {
     "name": "stdout",
     "output_type": "stream",
     "text": [
      "Enter a sentance I am Digvijay Patil\n",
      "The sentance is:   I am Digvijay Patil\n"
     ]
    }
   ],
   "source": [
    "#Q2 print sentance\n",
    "a= input(\"Enter a sentance\")\n",
    "print(\"The sentance is: \",a)"
   ]
  },
  {
   "cell_type": "code",
   "execution_count": 3,
   "metadata": {},
   "outputs": [
    {
     "name": "stdout",
     "output_type": "stream",
     "text": [
      "Enter your class: 14\n",
      "Your class is 14\n"
     ]
    }
   ],
   "source": [
    "#Q3 Append Veriable\n",
    "b = int(input(\"Enter your class: \"))\n",
    "print(\"Your class is\",b)"
   ]
  },
  {
   "cell_type": "code",
   "execution_count": 4,
   "metadata": {},
   "outputs": [
    {
     "name": "stdout",
     "output_type": "stream",
     "text": [
      "Enter first no: 5\n",
      "Enter second no: 20\n",
      "The addition of two no is:  25\n"
     ]
    }
   ],
   "source": [
    "#Q4 addition of 2 numbers\n",
    "a = int(input(\"Enter first no: \"))\n",
    "b = int(input(\"Enter second no: \"))\n",
    "print(\"The addition of two no is: \" ,a+b)\n"
   ]
  },
  {
   "cell_type": "code",
   "execution_count": 5,
   "metadata": {},
   "outputs": [
    {
     "name": "stdout",
     "output_type": "stream",
     "text": [
      "Enter first no: 20\n",
      "Enter second no: 3\n",
      "The substraction of two no is:  17\n"
     ]
    }
   ],
   "source": [
    "#Q5 difference of 2 number\n",
    "a = int(input(\"Enter first no: \"))\n",
    "b = int(input(\"Enter second no: \"))\n",
    "print(\"The substraction of two no is: \" ,a-b)"
   ]
  },
  {
   "cell_type": "code",
   "execution_count": 6,
   "metadata": {},
   "outputs": [
    {
     "name": "stdout",
     "output_type": "stream",
     "text": [
      "Enter first no: 2\n",
      "Enter second no: 3\n",
      "The product of two no is:  6\n"
     ]
    }
   ],
   "source": [
    "#Q6 product of 2 number\n",
    "a = int(input(\"Enter first no: \"))\n",
    "b = int(input(\"Enter second no: \"))\n",
    "print(\"The product of two no is: \" ,a*b)"
   ]
  },
  {
   "cell_type": "code",
   "execution_count": 7,
   "metadata": {},
   "outputs": [
    {
     "name": "stdout",
     "output_type": "stream",
     "text": [
      "Enter first no: 50\n",
      "Enter second no: 3\n",
      "The quotient of two no is:  16.666666666666668\n",
      "The reminder of two no is:  2\n"
     ]
    }
   ],
   "source": [
    "#Q7 quotient & reminder of 2 number\n",
    "a = int(input(\"Enter first no: \"))\n",
    "b = int(input(\"Enter second no: \"))\n",
    "print(\"The quotient of two no is: \" ,a/b)\n",
    "print(\"The reminder of two no is: \" ,a%b)"
   ]
  },
  {
   "cell_type": "markdown",
   "metadata": {},
   "source": [
    "This repo contains an introduction to [Jupyter](https://jupyter.org) and [IPython](https://ipython.org).\n",
    "\n",
    "Outline of some basics:\n",
    "\n",
    "* [Notebook Basics](../examples/Notebook/Notebook%20Basics.ipynb)\n",
    "* [IPython - beyond plain python](../examples/IPython%20Kernel/Beyond%20Plain%20Python.ipynb)\n",
    "* [Markdown Cells](../examples/Notebook/Working%20With%20Markdown%20Cells.ipynb)\n",
    "* [Rich Display System](../examples/IPython%20Kernel/Rich%20Output.ipynb)\n",
    "* [Custom Display logic](../examples/IPython%20Kernel/Custom%20Display%20Logic.ipynb)\n",
    "* [Running a Secure Public Notebook Server](../examples/Notebook/Running%20the%20Notebook%20Server.ipynb#Securing-the-notebook-server)\n",
    "* [How Jupyter works](../examples/Notebook/Multiple%20Languages%2C%20Frontends.ipynb) to run code in different languages."
   ]
  },
  {
   "cell_type": "markdown",
   "metadata": {},
   "source": [
    "You can also get this tutorial and run it on your laptop:\n",
    "\n",
    "    git clone https://github.com/ipython/ipython-in-depth\n",
    "\n",
    "Install IPython and Jupyter:\n",
    "\n",
    "with [conda](https://www.anaconda.com/download):\n",
    "\n",
    "    conda install ipython jupyter\n",
    "\n",
    "with pip:\n",
    "\n",
    "    # first, always upgrade pip!\n",
    "    pip install --upgrade pip\n",
    "    pip install --upgrade ipython jupyter\n",
    "\n",
    "Start the notebook in the tutorial directory:\n",
    "\n",
    "    cd ipython-in-depth\n",
    "    jupyter notebook"
   ]
  },
  {
   "cell_type": "code",
   "execution_count": 8,
   "metadata": {},
   "outputs": [
    {
     "name": "stdout",
     "output_type": "stream",
     "text": [
      "Enter first no: 5\n",
      "Enter second no: 3\n",
      "Enter third no: 1\n",
      "Mean is 3.0\n"
     ]
    }
   ],
   "source": [
    "#Q8 mean of numbers\n",
    "a = int(input(\"Enter first no: \"))\n",
    "b = int(input(\"Enter second no: \"))\n",
    "c = int(input(\"Enter third no: \"))\n",
    "mean = (a+b+c)/3\n",
    "print(\"Mean is\", mean)"
   ]
  },
  {
   "cell_type": "code",
   "execution_count": 9,
   "metadata": {},
   "outputs": [
    {
     "name": "stdout",
     "output_type": "stream",
     "text": [
      "Enter numbers: 5\n",
      "The median is: 5\n"
     ]
    }
   ],
   "source": [
    "#Q9 Median Number\n",
    "NUMS = list(map(int, input(\"Enter numbers: \").strip().split()))\n",
    "NUMS.sort()\n",
    "\n",
    "count = 0\n",
    "total = 0\n",
    "\n",
    "for i in NUMS:\n",
    "    total += i\n",
    "    count += 1\n",
    "\n",
    "if count % 2 == 0:\n",
    "    median = (NUMS[count//2-1] + NUMS[count//2])/2\n",
    "else:\n",
    "    median = NUMS[count//2]\n",
    "\n",
    "print(\"The median is:\",median)"
   ]
  },
  {
   "cell_type": "code",
   "execution_count": 10,
   "metadata": {},
   "outputs": [
    {
     "name": "stdout",
     "output_type": "stream",
     "text": [
      "Enter no: 5\n",
      "Square of given no is: 25\n"
     ]
    }
   ],
   "source": [
    "#Q10 Squre of number\n",
    "a = int(input(\"Enter no: \"))\n",
    "square = a*a\n",
    "print(\"Square of given no is:\", square)"
   ]
  },
  {
   "cell_type": "code",
   "execution_count": 11,
   "metadata": {},
   "outputs": [
    {
     "name": "stdout",
     "output_type": "stream",
     "text": [
      "Enter no: 6\n",
      "Cube of given no is:  216\n"
     ]
    }
   ],
   "source": [
    "#Q11 Cube of number\n",
    "a = int(input(\"Enter no: \"))\n",
    "cube = a*a*a\n",
    "print(\"Cube of given no is: \", cube)"
   ]
  },
  {
   "cell_type": "code",
   "execution_count": 12,
   "metadata": {},
   "outputs": [
    {
     "name": "stdout",
     "output_type": "stream",
     "text": [
      "Enter number:2\n",
      "The log value is: 0.6931\n"
     ]
    }
   ],
   "source": [
    "#Q12 find Natural log of a number\n",
    "import math\n",
    "no = int(input(\"Enter number:\"))\n",
    "ans = math.log(no)\n",
    "print(\"The log value is:\", round(ans,4))"
   ]
  },
  {
   "cell_type": "code",
   "execution_count": 13,
   "metadata": {},
   "outputs": [
    {
     "name": "stdout",
     "output_type": "stream",
     "text": [
      "Enter number:81\n",
      "The square root is: 9.0\n"
     ]
    }
   ],
   "source": [
    "#Q13 Square Root of no\n",
    "import math\n",
    "no = int(input(\"Enter number:\"))\n",
    "ans = math.sqrt(no)\n",
    "print(\"The square root is:\", ans)"
   ]
  },
  {
   "cell_type": "code",
   "execution_count": 14,
   "metadata": {},
   "outputs": [
    {
     "name": "stdout",
     "output_type": "stream",
     "text": [
      "Enter number:27\n",
      "The cube root is: 3\n"
     ]
    }
   ],
   "source": [
    "#Q14 Cube Root of no\n",
    "no = int(input(\"Enter number:\"))\n",
    "ans = math.ceil(no ** (1/3))\n",
    "print(\"The cube root is:\", ans)"
   ]
  },
  {
   "cell_type": "code",
   "execution_count": 15,
   "metadata": {},
   "outputs": [
    {
     "name": "stdout",
     "output_type": "stream",
     "text": [
      "Enter the first number: 20\n",
      "Enter the second number: 6\n",
      "The HCF/GCD is: 2\n"
     ]
    }
   ],
   "source": [
    "#Q15 HCF of 2 no\n",
    "a = int(input(\"Enter the first number: \"))\n",
    "b = int(input(\"Enter the second number: \"))\n",
    "while b:\n",
    "    a, b = b, a % b\n",
    "print(\"The HCF/GCD is:\",a)"
   ]
  },
  {
   "cell_type": "code",
   "execution_count": 16,
   "metadata": {},
   "outputs": [
    {
     "name": "stdout",
     "output_type": "stream",
     "text": [
      "Enter the first number: 10\n",
      "Enter the second number: 3\n",
      "The LCM is: 30\n"
     ]
    }
   ],
   "source": [
    "#Q16 LCM of 2 no\n",
    "n1 = int(input(\"Enter the first number: \"))\n",
    "n2 = int(input(\"Enter the second number: \"))\n",
    "\n",
    "if n1 > n2:\n",
    "    greater = n1\n",
    "else:\n",
    "    greater = n2\n",
    "\n",
    "while(True):\n",
    "    if(greater % n1 == 0 and greater % n2 == 0):\n",
    "        lcm = greater\n",
    "        break\n",
    "    greater += 1\n",
    "\n",
    "print(\"The LCM is:\",lcm)"
   ]
  },
  {
   "cell_type": "code",
   "execution_count": 17,
   "metadata": {},
   "outputs": [
    {
     "name": "stdout",
     "output_type": "stream",
     "text": [
      "Enter Base of triangle: 2\n",
      "Enter Height of triangle: 8\n",
      "Area of triangle is:  8.0\n"
     ]
    }
   ],
   "source": [
    "#Q17 Area of Triangle\n",
    "a = float(input('Enter Base of triangle: '))  \n",
    "b = float(input('Enter Height of triangle: '))  \n",
    "\n",
    "area = (a*b)/2\n",
    "print(\"Area of triangle is: \", area)"
   ]
  },
  {
   "cell_type": "code",
   "execution_count": 18,
   "metadata": {},
   "outputs": [
    {
     "name": "stdout",
     "output_type": "stream",
     "text": [
      "Enter radius: 5\n",
      "circumference of circle is: 31.43\n"
     ]
    }
   ],
   "source": [
    "#Q18 circumference of circle\n",
    "r = float(input('Enter radius: '))  \n",
    "c = (2*22*r)/7\n",
    "print('circumference of circle is:',round(c,2))"
   ]
  },
  {
   "cell_type": "code",
   "execution_count": 19,
   "metadata": {},
   "outputs": [
    {
     "name": "stdout",
     "output_type": "stream",
     "text": [
      "Enter Radius: 6\n",
      "Volume of Sphere;  905.14\n"
     ]
    }
   ],
   "source": [
    "#Q19 Volume of sphere \n",
    "r = int(input(\"Enter Radius: \"))\n",
    "v = (4*22*r*r*r)/(7*3)\n",
    "print(\"Volume of Sphere; \", round(v,2))"
   ]
  },
  {
   "cell_type": "code",
   "execution_count": 20,
   "metadata": {},
   "outputs": [
    {
     "name": "stdout",
     "output_type": "stream",
     "text": [
      "Enter radius: 7\n",
      "Enter height: 8\n",
      "Total surface area is: 660.0\n"
     ]
    }
   ],
   "source": [
    "#Q20 total surface area of a cylinder\n",
    "r = float(input('Enter radius: '))  \n",
    "h = float(input('Enter height: ')) \n",
    "a = (2 * 22 * r * h) / 7\n",
    "b = (2 * 22 * (r ** 2)) / 7\n",
    "c = a + b\n",
    "print(\"Total surface area is:\",round(c,2))"
   ]
  },
  {
   "cell_type": "code",
   "execution_count": 21,
   "metadata": {},
   "outputs": [
    {
     "name": "stdout",
     "output_type": "stream",
     "text": [
      "Enter a number: 9\n",
      "The number is odd!\n"
     ]
    }
   ],
   "source": [
    "#Q21 number is odd or even\n",
    "number = int(input('Enter a number: '))  \n",
    "if number % 2 == 0:\n",
    "    print(\"The number is even!\")\n",
    "else:\n",
    "    print(\"The number is odd!\")"
   ]
  },
  {
   "cell_type": "code",
   "execution_count": 22,
   "metadata": {},
   "outputs": [
    {
     "name": "stdout",
     "output_type": "stream",
     "text": [
      "Enter the principal: 1000\n",
      "Enter the rate of interest: 8\n",
      "Enter the time: 3\n",
      "The simple interest is Rs 240.0\n"
     ]
    }
   ],
   "source": [
    "#Q22 Calculate Simple Interest\n",
    "principal = float(input(\"Enter the principal: \"))\n",
    "rate = float(input(\"Enter the rate of interest: \"))\n",
    "time = float(input(\"Enter the time: \"))\n",
    "\n",
    "si = (principal * time * rate) / 100\n",
    "\n",
    "print(\"The simple interest is Rs\",si);"
   ]
  },
  {
   "cell_type": "code",
   "execution_count": 23,
   "metadata": {},
   "outputs": [
    {
     "name": "stdout",
     "output_type": "stream",
     "text": [
      "Enter principle amount: 1000\n",
      "Enter interest rate: 8\n",
      "Enter time(years): 3\n",
      "Compound interest is  259.71\n"
     ]
    }
   ],
   "source": [
    "#Q23 calculate compound interest\n",
    "principle = int(input(\"Enter principle amount: \"))\n",
    "rate = int(input(\"Enter interest rate: \"))\n",
    "time = int(input(\"Enter time(years): \"))\n",
    "\n",
    "ci= principle * pow((1 + rate / 100), time) - principle\n",
    "\n",
    "print(\"Compound interest is \",round(ci,2))"
   ]
  },
  {
   "cell_type": "code",
   "execution_count": 25,
   "metadata": {},
   "outputs": [
    {
     "name": "stdout",
     "output_type": "stream",
     "text": [
      "Enter a number: 6\n",
      "Enter a number: 5\n",
      "Enter s number: 3\n"
     ]
    },
    {
     "data": {
      "text/plain": [
       "'The two solutions of given quadratic equation are (-0.4166666666666667+0.5713045500334203j) & (-0.4166666666666667-0.5713045500334203j)'"
      ]
     },
     "execution_count": 25,
     "metadata": {},
     "output_type": "execute_result"
    }
   ],
   "source": [
    "#Q24 Solve Quadratic Equation\n",
    "import cmath\n",
    "_a = int(input(\"Enter a number: \"))\n",
    "_b = int(input(\"Enter a number: \"))\n",
    "_c = int(input(\"Enter s number: \"))\n",
    "_d = ((_b**2) - 4*_a*_c)\n",
    "sol1 = (-_b + cmath.sqrt(_d)) / (2*_a)\n",
    "sol2 = (-_b - cmath.sqrt(_d)) / (2*_a)\n",
    "f\"The two solutions of given quadratic equation are {sol1} & {sol2}\""
   ]
  },
  {
   "cell_type": "code",
   "execution_count": 26,
   "metadata": {},
   "outputs": [
    {
     "name": "stdout",
     "output_type": "stream",
     "text": [
      "Enter value of x: 5\n",
      "Enter value of y: 6\n",
      "The value of x after swapping: 6\n",
      "The value of y after swapping: 5\n"
     ]
    }
   ],
   "source": [
    "#Q25 Swap Two Variables\n",
    "x = input('Enter value of x: ')\n",
    "y = input('Enter value of y: ')\n",
    "\n",
    "temp = x\n",
    "x = y\n",
    "y = temp\n",
    "\n",
    "print('The value of x after swapping: {}'.format(x))\n",
    "print('The value of y after swapping: {}'.format(y))"
   ]
  },
  {
   "cell_type": "code",
   "execution_count": 27,
   "metadata": {},
   "outputs": [
    {
     "name": "stdout",
     "output_type": "stream",
     "text": [
      "Enter value of x: 6\n",
      "Enter value of y: 5\n",
      "The value of x after swapping: 5\n",
      "The value of y after swapping: 6\n"
     ]
    }
   ],
   "source": [
    "#Q26 swap 2 variables without third variable\n",
    "x = input('Enter value of x: ')\n",
    "y = input('Enter value of y: ')\n",
    "\n",
    "x, y = y, x\n",
    "print('The value of x after swapping: {}'.format(x))\n",
    "print('The value of y after swapping: {}'.format(y))"
   ]
  },
  {
   "cell_type": "code",
   "execution_count": 28,
   "metadata": {},
   "outputs": [
    {
     "name": "stdout",
     "output_type": "stream",
     "text": [
      "Enter value in kilometers: 5\n",
      "5.00 kilometers is equal to 3.11 miles\n"
     ]
    }
   ],
   "source": [
    "#Q28 Conversion of Kilometers to Miles\n",
    "kilometers = float(input(\"Enter value in kilometers: \"))\n",
    "\n",
    "conv_fac = 0.621371\n",
    "\n",
    "miles = kilometers * conv_fac\n",
    "print('%0.2f kilometers is equal to %0.2f miles' %(kilometers,miles))"
   ]
  },
  {
   "cell_type": "code",
   "execution_count": 29,
   "metadata": {},
   "outputs": [
    {
     "name": "stdout",
     "output_type": "stream",
     "text": [
      "Enter weight in Pounds(Lbs):6\n",
      "6.0  Pounds (Lbs) are equal to 2.721552 Kilograms (Kgs)\n"
     ]
    }
   ],
   "source": [
    "#Q29 Conversion of Pounds to Kilograms\n",
    "pounds = float(input('Enter weight in Pounds(Lbs):'))\n",
    "kilo_grams = pounds * 0.453592\n",
    "print(pounds,' Pounds (Lbs) are equal to', kilo_grams,'Kilograms (Kgs)')"
   ]
  },
  {
   "cell_type": "code",
   "execution_count": 30,
   "metadata": {},
   "outputs": [
    {
     "name": "stdout",
     "output_type": "stream",
     "text": [
      "Enter currency in USD: 6\n",
      "The currency in INR is 438.0\n"
     ]
    }
   ],
   "source": [
    "#Q30 convert US Dollar to Indian Rupees\n",
    "usd = float(input(\"Enter currency in USD: \"))\n",
    "inr = usd * 73\n",
    "\n",
    "print(\"The currency in INR is\",round(inr,2))"
   ]
  },
  {
   "cell_type": "code",
   "execution_count": 31,
   "metadata": {},
   "outputs": [
    {
     "name": "stdout",
     "output_type": "stream",
     "text": [
      "Enter speed in Km/Hr: 50\n",
      "The speed in m/s is 13.89\n"
     ]
    }
   ],
   "source": [
    "#Q31 convert km/hr. to m/s\n",
    "kmph= float(input(\"Enter speed in Km/Hr: \"))\n",
    "\n",
    "mps = (kmph * 1000)/3600\n",
    "print(\"The speed in m/s is\",round(mps,2))"
   ]
  },
  {
   "cell_type": "code",
   "execution_count": 32,
   "metadata": {},
   "outputs": [
    {
     "name": "stdout",
     "output_type": "stream",
     "text": [
      "Please enter temperature in fahrenheit:90\n",
      "Temperature in celsius:  32.22222222222222\n"
     ]
    }
   ],
   "source": [
    "#Q32 convert fahrenheit to celsius\n",
    "temperature = float(input(\"Please enter temperature in fahrenheit:\"))\n",
    "celsius = (temperature - 32) * 5 / 9\n",
    "print(\"Temperature in celsius: \" , celsius)"
   ]
  },
  {
   "cell_type": "code",
   "execution_count": 33,
   "metadata": {},
   "outputs": [
    {
     "name": "stdout",
     "output_type": "stream",
     "text": [
      "Enter temperature in celsius : 37\n",
      "37.0 degree Celsius is equal to 98.6 degree Fahrenheit\n"
     ]
    }
   ],
   "source": [
    "#Q33 Convert Celsius To Fahrenheit\n",
    "celsius = float(input(\"Enter temperature in celsius : \"))\n",
    "\n",
    "fahrenheit = (celsius * 1.8) + 32\n",
    "print('%0.1f degree Celsius is equal to %0.1f degree Fahrenheit' %(celsius,fahrenheit))"
   ]
  },
  {
   "cell_type": "code",
   "execution_count": 34,
   "metadata": {},
   "outputs": [
    {
     "name": "stdout",
     "output_type": "stream",
     "text": [
      "Enter temperature in Celsius: 60\n",
      "The tempeature in Kelvin: 333.15\n"
     ]
    }
   ],
   "source": [
    "#Q34 convert temperature from Celsius to Kelvin\n",
    "c = float(input(\"Enter temperature in Celsius: \"))\n",
    "\n",
    "k = c + 273.15\n",
    "\n",
    "print(\"The tempeature in Kelvin:\",round(k,2))"
   ]
  },
  {
   "cell_type": "code",
   "execution_count": 35,
   "metadata": {},
   "outputs": [
    {
     "name": "stdout",
     "output_type": "stream",
     "text": [
      "Enter temperature in fahrenheit: 20\n",
      "The temperature in kelvin: 266.48\n"
     ]
    }
   ],
   "source": [
    "#Q35 convert fahrenheit to kelvin\n",
    "f = float(input(\"Enter temperature in fahrenheit: \"))\n",
    "\n",
    "k = 5 * (f-32)/9 + 273.15\n",
    "\n",
    "print(\"The temperature in kelvin:\",round(k,2))"
   ]
  },
  {
   "cell_type": "code",
   "execution_count": 36,
   "metadata": {},
   "outputs": [
    {
     "name": "stdout",
     "output_type": "stream",
     "text": [
      "Enter the Year: 2024\n",
      "2024 is a leap year\n"
     ]
    }
   ],
   "source": [
    "#Q36 check if year is a leap year or not\n",
    "\n",
    "year = int(input(\"Enter the Year: \"))\n",
    "\n",
    "if (year % 4) == 0:\n",
    "   if (year % 100) == 0:\n",
    "       if (year % 400) == 0:\n",
    "           print(\"{0} is a leap year\".format(year))\n",
    "       else:\n",
    "           print(\"{0} is not a leap year\".format(year))\n",
    "   else:\n",
    "       print(\"{0} is a leap year\".format(year))\n",
    "else:\n",
    "   print(\"{0} is not a leap year\".format(year))\n"
   ]
  },
  {
   "cell_type": "code",
   "execution_count": 37,
   "metadata": {},
   "outputs": [
    {
     "name": "stdout",
     "output_type": "stream",
     "text": [
      "Enter a number: 5\n",
      "The factorial of 5 is 120\n"
     ]
    }
   ],
   "source": [
    "#Q37 find the factorial of a number provided by the user.\n",
    "num = int(input(\"Enter a number: \"))\n",
    "\n",
    "factorial = 1\n",
    "\n",
    "if num < 0:\n",
    "   print(\"Sorry, factorial does not exist for negative numbers\")\n",
    "elif num == 0:\n",
    "   print(\"The factorial of 0 is 1\")\n",
    "else:\n",
    "   for i in range(1,num + 1):\n",
    "       factorial = factorial*i\n",
    "   print(\"The factorial of\",num,\"is\",factorial)\n"
   ]
  },
  {
   "cell_type": "code",
   "execution_count": 38,
   "metadata": {},
   "outputs": [
    {
     "name": "stdout",
     "output_type": "stream",
     "text": [
      "Enter a number: 5\n",
      "The factorial of 5 is 120\n"
     ]
    }
   ],
   "source": [
    "#Q38 Factorial of a number using recursion\n",
    "\n",
    "def recur_factorial(n):\n",
    "   if n == 1:\n",
    "       return n\n",
    "   else:\n",
    "       return n*recur_factorial(n-1)\n",
    "\n",
    "num = int(input(\"Enter a number: \"))\n",
    "if num < 0:\n",
    "   print(\"Sorry, factorial does not exist for negative numbers\")\n",
    "elif num == 0:\n",
    "   print(\"The factorial of 0 is 1\")\n",
    "else:\n",
    "   print(\"The factorial of\", num, \"is\", recur_factorial(num))\n"
   ]
  },
  {
   "cell_type": "code",
   "execution_count": 39,
   "metadata": {},
   "outputs": [
    {
     "name": "stdout",
     "output_type": "stream",
     "text": [
      "Enter first number: 20\n",
      "Enter second number: 30\n",
      "Enter third number: 20\n",
      "The largest number is 30.0\n"
     ]
    }
   ],
   "source": [
    "#Q39 find the largest number among the three input numbers\n",
    "\n",
    "num1 = float(input(\"Enter first number: \"))\n",
    "num2 = float(input(\"Enter second number: \"))\n",
    "num3 = float(input(\"Enter third number: \"))\n",
    "\n",
    "if (num1 >= num2) and (num1 >= num3):\n",
    "   largest = num1\n",
    "elif (num2 >= num1) and (num2 >= num3):\n",
    "   largest = num2\n",
    "else:\n",
    "   largest = num3\n",
    "\n",
    "print(\"The largest number is\", largest)\n"
   ]
  },
  {
   "cell_type": "code",
   "execution_count": 40,
   "metadata": {},
   "outputs": [
    {
     "name": "stdout",
     "output_type": "stream",
     "text": [
      "Enter a number: 2\n",
      "2 is a prime number\n"
     ]
    }
   ],
   "source": [
    "#Q40 check if a number is prime or not**\n",
    "num = int(input(\"Enter a number: \"))\n",
    "\n",
    "flag = False\n",
    "\n",
    "if num > 1:\n",
    "    for i in range(2, num):\n",
    "        if (num % i) == 0:\n",
    "            flag = True\n",
    "            break\n",
    "if flag:\n",
    "    print(num, \"is not a prime number\")\n",
    "else:\n",
    "    print(num, \"is a prime number\")"
   ]
  },
  {
   "cell_type": "code",
   "execution_count": 41,
   "metadata": {},
   "outputs": [
    {
     "name": "stdout",
     "output_type": "stream",
     "text": [
      "Enter start: 5\n",
      "Enter end: 100\n",
      "5\n",
      "7\n",
      "11\n",
      "13\n",
      "17\n",
      "19\n",
      "23\n",
      "29\n",
      "31\n",
      "37\n",
      "41\n",
      "43\n",
      "47\n",
      "53\n",
      "59\n",
      "61\n",
      "67\n",
      "71\n",
      "73\n",
      "79\n",
      "83\n",
      "89\n",
      "97\n"
     ]
    }
   ],
   "source": [
    "#Q41 print Prime numbers within an interval\n",
    "start = int(input(\"Enter start: \"))\n",
    "end = int(input(\"Enter end: \"))\n",
    "  \n",
    "for i in range(start, end+1):\n",
    " if i>1:\n",
    "    for j in range(2,i):\n",
    "        if(i % j==0):\n",
    "            break\n",
    "    else:\n",
    "        print(i)"
   ]
  },
  {
   "cell_type": "code",
   "execution_count": 42,
   "metadata": {},
   "outputs": [
    {
     "name": "stdout",
     "output_type": "stream",
     "text": [
      "Enter a number to check palindrom or not: 63236\n",
      "Given number is in palindrom\n"
     ]
    }
   ],
   "source": [
    "#Q42 check if a number is palindrome in nature\n",
    "pal = str(input(\"Enter a number to check palindrom or not: \"))\n",
    "if (str(pal) == str(pal)[::-1]):\n",
    "    print(\"Given number is in palindrom\")\n",
    "else:\n",
    "    print(\"Given number is not palindrom\")"
   ]
  },
  {
   "cell_type": "code",
   "execution_count": 43,
   "metadata": {},
   "outputs": [
    {
     "name": "stdout",
     "output_type": "stream",
     "text": [
      "Enter a number: 8\n",
      "8 is not an Armstrong number\n"
     ]
    }
   ],
   "source": [
    "#Q43 check if a number is an Armstrong number\n",
    "num = int(input(\"Enter a number: \"))\n",
    "sum = 0\n",
    "temp = num\n",
    "while temp > 0:\n",
    "    digit = temp % 10\n",
    "    sum += digit ** 3\n",
    "    temp //= 10\n",
    "if num == sum:\n",
    "   print(num,\"is an Armstrong number\")\n",
    "else:\n",
    "   print(num,\"is not an Armstrong number\")"
   ]
  },
  {
   "cell_type": "code",
   "execution_count": 44,
   "metadata": {},
   "outputs": [
    {
     "name": "stdout",
     "output_type": "stream",
     "text": [
      "Enter a number: 2\n",
      "2 x 1 = 2\n",
      "2 x 2 = 4\n",
      "2 x 3 = 6\n",
      "2 x 4 = 8\n",
      "2 x 5 = 10\n",
      "2 x 6 = 12\n",
      "2 x 7 = 14\n",
      "2 x 8 = 16\n",
      "2 x 9 = 18\n",
      "2 x 10 = 20\n"
     ]
    }
   ],
   "source": [
    "#Q44 print multiplication table of a given number\n",
    "table = int(input(\"Enter a number: \"))\n",
    "for i in range(1,11):\n",
    "    print(table, 'x', i, '=', table * i)  "
   ]
  },
  {
   "cell_type": "code",
   "execution_count": 45,
   "metadata": {},
   "outputs": [
    {
     "name": "stdout",
     "output_type": "stream",
     "text": [
      "Enter a number5\n",
      "1\n",
      "3\n",
      "6\n",
      "10\n",
      "15\n"
     ]
    }
   ],
   "source": [
    "#Q45 print the sum of n Natural numbers\n",
    "N_N =int(input(\"Enter a number\"))\n",
    "Sum = 0\n",
    "for i in range(1,N_N+1):\n",
    "    Sum = Sum + i\n",
    "    print(Sum)"
   ]
  },
  {
   "cell_type": "code",
   "execution_count": 46,
   "metadata": {},
   "outputs": [
    {
     "name": "stdout",
     "output_type": "stream",
     "text": [
      "Enter base: 2\n",
      "Enter power: 3\n",
      "Answer is:  8\n"
     ]
    }
   ],
   "source": [
    "#Q46 print the value of x raise to the power y\n",
    "X = int(input(\"Enter base: \"))\n",
    "Y = int(input(\"Enter power: \"))\n",
    "ANS = X ** Y\n",
    "print(\"Answer is: \",ANS)"
   ]
  },
  {
   "cell_type": "code",
   "execution_count": 1,
   "metadata": {},
   "outputs": [
    {
     "name": "stdout",
     "output_type": "stream",
     "text": [
      "Enter a decimal number: 10\n",
      "Binary number is:  0b1010\n"
     ]
    }
   ],
   "source": [
    "#Q47 convert decimal to binary\n",
    "N = int(input(\"Enter a decimal number: \"))\n",
    "print(\"Binary number is: \",bin(N))"
   ]
  },
  {
   "cell_type": "code",
   "execution_count": 2,
   "metadata": {},
   "outputs": [
    {
     "name": "stdout",
     "output_type": "stream",
     "text": [
      "Enter a number: 5\n",
      "Octal number is:  0o12\n"
     ]
    }
   ],
   "source": [
    "#Q48 convert decimal to octal\n",
    "N1 = int(input(\"Enter a number: \"))\n",
    "print(\"Octal number is: \",oct(N))"
   ]
  },
  {
   "cell_type": "code",
   "execution_count": 3,
   "metadata": {},
   "outputs": [
    {
     "name": "stdout",
     "output_type": "stream",
     "text": [
      "Enter a number: 10\n",
      "Hexadecimal number is:  0xa\n"
     ]
    }
   ],
   "source": [
    "#Q49 convert decimal to hexadecima\n",
    "N2 = int(input(\"Enter a number: \"))\n",
    "print(\"Hexadecimal number is: \",hex(N2))"
   ]
  },
  {
   "cell_type": "code",
   "execution_count": 4,
   "metadata": {},
   "outputs": [
    {
     "name": "stdout",
     "output_type": "stream",
     "text": [
      "Enter a character: 1\n",
      "ASCII value of given character is:  49\n"
     ]
    }
   ],
   "source": [
    "#Q50 find ASCII value of a character\n",
    "char = input(\"Enter a character: \")\n",
    "print(\"ASCII value of given character is: \",ord(char))"
   ]
  },
  {
   "cell_type": "code",
   "execution_count": 5,
   "metadata": {},
   "outputs": [
    {
     "name": "stdout",
     "output_type": "stream",
     "text": [
      "Enter a number: 6\n",
      "1\n",
      "2\n",
      "3\n",
      "6\n"
     ]
    }
   ],
   "source": [
    "#Q51 find the factors of a number\n",
    "N = int(input(\"Enter a number: \"))\n",
    "for i in range(1,N+1):\n",
    "    if(N % i) == 0:\n",
    "        print(i)"
   ]
  },
  {
   "cell_type": "code",
   "execution_count": 6,
   "metadata": {},
   "outputs": [
    {
     "name": "stdout",
     "output_type": "stream",
     "text": [
      "Enter your marks: 50\n",
      "Your grade is: C+\n"
     ]
    }
   ],
   "source": [
    "#Q52 find grade as per the marks obtained\n",
    "marks = int(input(\"Enter your marks: \"))\n",
    "if (marks > 90):\n",
    "    print(\"Your grade is: A+\")\n",
    "elif (marks >= 80):\n",
    "    print(\"Your grade is: A\")\n",
    "elif (marks >= 70):\n",
    "    print(\"Your grtade is: B+\")\n",
    "elif (marks >= 60):\n",
    "    print (\"Your grade is: B\")\n",
    "elif (marks >= 50):\n",
    "    print(\"Your grade is: C+\")\n",
    "elif (marks >= 40):\n",
    "    print(\"Your grade is: C\")\n",
    "else:\n",
    "    print(\"Your grade is: F\")\n",
    "    "
   ]
  },
  {
   "cell_type": "code",
   "execution_count": 7,
   "metadata": {},
   "outputs": [
    {
     "name": "stdout",
     "output_type": "stream",
     "text": [
      "john\n"
     ]
    }
   ],
   "source": [
    "#Q53 Program to cast votes\n",
    "from collections import Counter\n",
    " \n",
    "votes =['john','johnny','jackie','johnny','john','jackie',\n",
    "    'jamie','jamie','john','johnny','jamie','johnny','john']\n",
    "\n",
    "vote_count=Counter(votes)\n",
    " \n",
    "max_votes=max(vote_count.values())\n",
    " \n",
    "lst=[i for i in vote_count.keys() if vote_count[i]==max_votes]\n",
    " \n",
    "print(sorted(lst)[0])"
   ]
  }
 ],
 "metadata": {
  "kernelspec": {
   "display_name": "Python 3",
   "language": "python",
   "name": "python3"
  },
  "language_info": {
   "codemirror_mode": {
    "name": "ipython",
    "version": 3
   },
   "file_extension": ".py",
   "mimetype": "text/x-python",
   "name": "python",
   "nbconvert_exporter": "python",
   "pygments_lexer": "ipython3",
   "version": "3.6.13"
  }
 },
 "nbformat": 4,
 "nbformat_minor": 2
}
